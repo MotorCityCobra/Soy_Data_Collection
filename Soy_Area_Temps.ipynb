{
 "cells": [
  {
   "cell_type": "code",
   "execution_count": 279,
   "metadata": {},
   "outputs": [],
   "source": [
    "import os\n",
    "import glob\n",
    "import pandas as pd"
   ]
  },
  {
   "cell_type": "code",
   "execution_count": 246,
   "metadata": {},
   "outputs": [],
   "source": [
    "pd.set_option('display.max_rows', 9)\n",
    "pd.set_option('display.max_columns', 90)\n"
   ]
  },
  {
   "cell_type": "code",
   "execution_count": 280,
   "metadata": {},
   "outputs": [
    {
     "name": "stdout",
     "output_type": "stream",
     "text": [
      "/Users/AnthonyCelio/ad/falcon/soy\r\n"
     ]
    }
   ],
   "source": [
    "!pwd"
   ]
  },
  {
   "cell_type": "code",
   "execution_count": 281,
   "metadata": {
    "scrolled": false
   },
   "outputs": [
    {
     "data": {
      "text/plain": [
       "['/Users/AnthonyCelio/ad/falcon/soy/temps/Soy_country_Temps_1901_2015.csv',\n",
       " '/Users/AnthonyCelio/ad/falcon/soy/temps/GREENFIELD-8-30-2018.csv',\n",
       " '/Users/AnthonyCelio/ad/falcon/soy/temps/MEMPHIS_8-30-2018.csv',\n",
       " '/Users/AnthonyCelio/ad/falcon/soy/temps/SIOUX_FALLS.csv',\n",
       " '/Users/AnthonyCelio/ad/falcon/soy/temps/Memphis_USA_Temp.csv',\n",
       " '/Users/AnthonyCelio/ad/falcon/soy/temps/GREENFIELD.csv']"
      ]
     },
     "execution_count": 281,
     "metadata": {},
     "output_type": "execute_result"
    }
   ],
   "source": [
    "glob.glob(path + '*.*')"
   ]
  },
  {
   "cell_type": "code",
   "execution_count": 282,
   "metadata": {},
   "outputs": [],
   "source": [
    "path = '/Users/AnthonyCelio/ad/falcon/soy/temps/'"
   ]
  },
  {
   "cell_type": "code",
   "execution_count": 298,
   "metadata": {},
   "outputs": [],
   "source": [
    "memphis = pd.read_csv('/Users/AnthonyCelio/ad/falcon/soy/temps/Memphis_USA_Temp.csv')\n",
    "soux = pd.read_csv('/Users/AnthonyCelio/ad/falcon/soy/temps/SIOUX_FALLS.csv')\n",
    "indianap = pd.read_csv('/Users/AnthonyCelio/ad/falcon/soy/temps/GREENFIELD.csv')\n",
    "#others = pd.read_csv('/Users/AnthonyCelio/ad/falcon/soy/temps/Soy_country_Temps_1901_2015.csv')"
   ]
  },
  {
   "cell_type": "code",
   "execution_count": 299,
   "metadata": {},
   "outputs": [],
   "source": [
    "#others = others.iloc[::-1]\n",
    "memphis = memphis.iloc[::-1]\n",
    "indianap = indianap.iloc[::-1]\n",
    "soux = soux.iloc[::-1]"
   ]
  },
  {
   "cell_type": "code",
   "execution_count": 300,
   "metadata": {
    "scrolled": false
   },
   "outputs": [],
   "source": [
    "#others = others.reset_index(drop=True)\n",
    "memphis = memphis.reset_index(drop=True)\n",
    "indianap = indianap.reset_index(drop=True)\n",
    "soux = soux.reset_index(drop=True)"
   ]
  },
  {
   "cell_type": "code",
   "execution_count": 301,
   "metadata": {},
   "outputs": [],
   "source": [
    "#First Date 1961-12-31"
   ]
  },
  {
   "cell_type": "code",
   "execution_count": 302,
   "metadata": {
    "scrolled": true
   },
   "outputs": [],
   "source": [
    "#others = others.loc[:647].copy()\n",
    "w_dates = pd.date_range(start='1962-1-1', end='2015-12-1', freq='MS')\n",
    "w_dates = pd.DataFrame(w_dates)\n",
    "w_dates = w_dates[::-1]\n",
    "w_dates = w_dates.reset_index(drop=True)\n",
    "w_dates.rename(columns={0: 'Date'}, inplace=True)\n",
    "# others = others[['Argentina_Temp', 'Brazil_Temp', 'China_Temp', 'India_Temp', 'Paraguay_Temp']].copy()\n",
    "# others = w_dates.merge(other, how='outer', left_index=True, right_index=True)\n",
    "# others.loc[647, 'Date'] = (pd.to_datetime('1961-12-31'))"
   ]
  },
  {
   "cell_type": "code",
   "execution_count": 303,
   "metadata": {},
   "outputs": [],
   "source": [
    "memphis = memphis[['DATE', 'TMAX', 'TMIN']].copy()\n",
    "indianap = indianap[['DATE', 'TMAX', 'TMIN']].copy()\n",
    "soux = soux[['DATE', 'TMAX', 'TMIN']].copy()"
   ]
  },
  {
   "cell_type": "code",
   "execution_count": 304,
   "metadata": {},
   "outputs": [],
   "source": [
    "memphis.rename(columns={'DATE': 'Date', 'TMAX': 'memphis_H', 'TMIN': 'memphis_L'}, inplace=True)\n",
    "indianap.rename(columns={'DATE': 'Date', 'TMAX': 'indianap_H', 'TMIN': 'indianap_L'}, inplace=True)\n",
    "soux.rename(columns={'DATE': 'Date', 'TMAX': 'soux_H', 'TMIN': 'soux_L'}, inplace=True)"
   ]
  },
  {
   "cell_type": "code",
   "execution_count": 305,
   "metadata": {},
   "outputs": [
    {
     "data": {
      "text/html": [
       "<div>\n",
       "<style scoped>\n",
       "    .dataframe tbody tr th:only-of-type {\n",
       "        vertical-align: middle;\n",
       "    }\n",
       "\n",
       "    .dataframe tbody tr th {\n",
       "        vertical-align: top;\n",
       "    }\n",
       "\n",
       "    .dataframe thead th {\n",
       "        text-align: right;\n",
       "    }\n",
       "</style>\n",
       "<table border=\"1\" class=\"dataframe\">\n",
       "  <thead>\n",
       "    <tr style=\"text-align: right;\">\n",
       "      <th></th>\n",
       "      <th>Date</th>\n",
       "      <th>memphis_H</th>\n",
       "      <th>memphis_L</th>\n",
       "    </tr>\n",
       "  </thead>\n",
       "  <tbody>\n",
       "    <tr>\n",
       "      <th>0</th>\n",
       "      <td>2018-08-26</td>\n",
       "      <td>94</td>\n",
       "      <td>76</td>\n",
       "    </tr>\n",
       "    <tr>\n",
       "      <th>1</th>\n",
       "      <td>2018-08-25</td>\n",
       "      <td>91</td>\n",
       "      <td>72</td>\n",
       "    </tr>\n",
       "    <tr>\n",
       "      <th>2</th>\n",
       "      <td>2018-08-24</td>\n",
       "      <td>89</td>\n",
       "      <td>67</td>\n",
       "    </tr>\n",
       "    <tr>\n",
       "      <th>3</th>\n",
       "      <td>2018-08-23</td>\n",
       "      <td>85</td>\n",
       "      <td>65</td>\n",
       "    </tr>\n",
       "    <tr>\n",
       "      <th>...</th>\n",
       "      <td>...</td>\n",
       "      <td>...</td>\n",
       "      <td>...</td>\n",
       "    </tr>\n",
       "    <tr>\n",
       "      <th>21053</th>\n",
       "      <td>1961-01-04</td>\n",
       "      <td>53</td>\n",
       "      <td>27</td>\n",
       "    </tr>\n",
       "    <tr>\n",
       "      <th>21054</th>\n",
       "      <td>1961-01-03</td>\n",
       "      <td>42</td>\n",
       "      <td>24</td>\n",
       "    </tr>\n",
       "    <tr>\n",
       "      <th>21055</th>\n",
       "      <td>1961-01-02</td>\n",
       "      <td>38</td>\n",
       "      <td>31</td>\n",
       "    </tr>\n",
       "    <tr>\n",
       "      <th>21056</th>\n",
       "      <td>1961-01-01</td>\n",
       "      <td>33</td>\n",
       "      <td>27</td>\n",
       "    </tr>\n",
       "  </tbody>\n",
       "</table>\n",
       "<p>21057 rows × 3 columns</p>\n",
       "</div>"
      ],
      "text/plain": [
       "             Date  memphis_H  memphis_L\n",
       "0      2018-08-26         94         76\n",
       "1      2018-08-25         91         72\n",
       "2      2018-08-24         89         67\n",
       "3      2018-08-23         85         65\n",
       "...           ...        ...        ...\n",
       "21053  1961-01-04         53         27\n",
       "21054  1961-01-03         42         24\n",
       "21055  1961-01-02         38         31\n",
       "21056  1961-01-01         33         27\n",
       "\n",
       "[21057 rows x 3 columns]"
      ]
     },
     "execution_count": 305,
     "metadata": {},
     "output_type": "execute_result"
    }
   ],
   "source": [
    "memphis"
   ]
  },
  {
   "cell_type": "code",
   "execution_count": 306,
   "metadata": {
    "scrolled": false
   },
   "outputs": [
    {
     "data": {
      "text/html": [
       "<div>\n",
       "<style scoped>\n",
       "    .dataframe tbody tr th:only-of-type {\n",
       "        vertical-align: middle;\n",
       "    }\n",
       "\n",
       "    .dataframe tbody tr th {\n",
       "        vertical-align: top;\n",
       "    }\n",
       "\n",
       "    .dataframe thead th {\n",
       "        text-align: right;\n",
       "    }\n",
       "</style>\n",
       "<table border=\"1\" class=\"dataframe\">\n",
       "  <thead>\n",
       "    <tr style=\"text-align: right;\">\n",
       "      <th></th>\n",
       "      <th>Date</th>\n",
       "      <th>indianap_H</th>\n",
       "      <th>indianap_L</th>\n",
       "    </tr>\n",
       "  </thead>\n",
       "  <tbody>\n",
       "    <tr>\n",
       "      <th>0</th>\n",
       "      <td>2018-08-27</td>\n",
       "      <td>90.0</td>\n",
       "      <td>72.0</td>\n",
       "    </tr>\n",
       "    <tr>\n",
       "      <th>1</th>\n",
       "      <td>2018-08-26</td>\n",
       "      <td>77.0</td>\n",
       "      <td>68.0</td>\n",
       "    </tr>\n",
       "    <tr>\n",
       "      <th>2</th>\n",
       "      <td>2018-08-25</td>\n",
       "      <td>76.0</td>\n",
       "      <td>60.0</td>\n",
       "    </tr>\n",
       "    <tr>\n",
       "      <th>3</th>\n",
       "      <td>2018-08-24</td>\n",
       "      <td>78.0</td>\n",
       "      <td>56.0</td>\n",
       "    </tr>\n",
       "    <tr>\n",
       "      <th>...</th>\n",
       "      <td>...</td>\n",
       "      <td>...</td>\n",
       "      <td>...</td>\n",
       "    </tr>\n",
       "    <tr>\n",
       "      <th>20868</th>\n",
       "      <td>1961-01-04</td>\n",
       "      <td>33.0</td>\n",
       "      <td>13.0</td>\n",
       "    </tr>\n",
       "    <tr>\n",
       "      <th>20869</th>\n",
       "      <td>1961-01-03</td>\n",
       "      <td>31.0</td>\n",
       "      <td>27.0</td>\n",
       "    </tr>\n",
       "    <tr>\n",
       "      <th>20870</th>\n",
       "      <td>1961-01-02</td>\n",
       "      <td>33.0</td>\n",
       "      <td>29.0</td>\n",
       "    </tr>\n",
       "    <tr>\n",
       "      <th>20871</th>\n",
       "      <td>1961-01-01</td>\n",
       "      <td>35.0</td>\n",
       "      <td>25.0</td>\n",
       "    </tr>\n",
       "  </tbody>\n",
       "</table>\n",
       "<p>20872 rows × 3 columns</p>\n",
       "</div>"
      ],
      "text/plain": [
       "             Date  indianap_H  indianap_L\n",
       "0      2018-08-27        90.0        72.0\n",
       "1      2018-08-26        77.0        68.0\n",
       "2      2018-08-25        76.0        60.0\n",
       "3      2018-08-24        78.0        56.0\n",
       "...           ...         ...         ...\n",
       "20868  1961-01-04        33.0        13.0\n",
       "20869  1961-01-03        31.0        27.0\n",
       "20870  1961-01-02        33.0        29.0\n",
       "20871  1961-01-01        35.0        25.0\n",
       "\n",
       "[20872 rows x 3 columns]"
      ]
     },
     "execution_count": 306,
     "metadata": {},
     "output_type": "execute_result"
    }
   ],
   "source": [
    "indianap"
   ]
  },
  {
   "cell_type": "code",
   "execution_count": 310,
   "metadata": {},
   "outputs": [],
   "source": [
    "ALL_Temp = soux.merge(indianap, how='left', on='Date')\n",
    "ALL_Temp = ALL_Temp.merge(memphis, how='left', on='Date')\n"
   ]
  },
  {
   "cell_type": "code",
   "execution_count": 311,
   "metadata": {
    "scrolled": false
   },
   "outputs": [
    {
     "data": {
      "text/html": [
       "<div>\n",
       "<style scoped>\n",
       "    .dataframe tbody tr th:only-of-type {\n",
       "        vertical-align: middle;\n",
       "    }\n",
       "\n",
       "    .dataframe tbody tr th {\n",
       "        vertical-align: top;\n",
       "    }\n",
       "\n",
       "    .dataframe thead th {\n",
       "        text-align: right;\n",
       "    }\n",
       "</style>\n",
       "<table border=\"1\" class=\"dataframe\">\n",
       "  <thead>\n",
       "    <tr style=\"text-align: right;\">\n",
       "      <th></th>\n",
       "      <th>Date</th>\n",
       "      <th>soux_H</th>\n",
       "      <th>soux_L</th>\n",
       "      <th>indianap_H</th>\n",
       "      <th>indianap_L</th>\n",
       "      <th>memphis_H</th>\n",
       "      <th>memphis_L</th>\n",
       "    </tr>\n",
       "  </thead>\n",
       "  <tbody>\n",
       "    <tr>\n",
       "      <th>0</th>\n",
       "      <td>2018-08-29</td>\n",
       "      <td>75</td>\n",
       "      <td>49</td>\n",
       "      <td>NaN</td>\n",
       "      <td>NaN</td>\n",
       "      <td>NaN</td>\n",
       "      <td>NaN</td>\n",
       "    </tr>\n",
       "    <tr>\n",
       "      <th>1</th>\n",
       "      <td>2018-08-28</td>\n",
       "      <td>66</td>\n",
       "      <td>53</td>\n",
       "      <td>NaN</td>\n",
       "      <td>NaN</td>\n",
       "      <td>NaN</td>\n",
       "      <td>NaN</td>\n",
       "    </tr>\n",
       "    <tr>\n",
       "      <th>2</th>\n",
       "      <td>2018-08-27</td>\n",
       "      <td>78</td>\n",
       "      <td>66</td>\n",
       "      <td>90.0</td>\n",
       "      <td>72.0</td>\n",
       "      <td>NaN</td>\n",
       "      <td>NaN</td>\n",
       "    </tr>\n",
       "    <tr>\n",
       "      <th>3</th>\n",
       "      <td>2018-08-26</td>\n",
       "      <td>87</td>\n",
       "      <td>70</td>\n",
       "      <td>77.0</td>\n",
       "      <td>68.0</td>\n",
       "      <td>94.0</td>\n",
       "      <td>76.0</td>\n",
       "    </tr>\n",
       "    <tr>\n",
       "      <th>...</th>\n",
       "      <td>...</td>\n",
       "      <td>...</td>\n",
       "      <td>...</td>\n",
       "      <td>...</td>\n",
       "      <td>...</td>\n",
       "      <td>...</td>\n",
       "      <td>...</td>\n",
       "    </tr>\n",
       "    <tr>\n",
       "      <th>20692</th>\n",
       "      <td>1962-01-03</td>\n",
       "      <td>47</td>\n",
       "      <td>28</td>\n",
       "      <td>36.0</td>\n",
       "      <td>23.0</td>\n",
       "      <td>61.0</td>\n",
       "      <td>34.0</td>\n",
       "    </tr>\n",
       "    <tr>\n",
       "      <th>20693</th>\n",
       "      <td>1962-01-02</td>\n",
       "      <td>45</td>\n",
       "      <td>19</td>\n",
       "      <td>32.0</td>\n",
       "      <td>14.0</td>\n",
       "      <td>47.0</td>\n",
       "      <td>27.0</td>\n",
       "    </tr>\n",
       "    <tr>\n",
       "      <th>20694</th>\n",
       "      <td>1962-01-01</td>\n",
       "      <td>37</td>\n",
       "      <td>21</td>\n",
       "      <td>29.0</td>\n",
       "      <td>14.0</td>\n",
       "      <td>33.0</td>\n",
       "      <td>27.0</td>\n",
       "    </tr>\n",
       "    <tr>\n",
       "      <th>20695</th>\n",
       "      <td>1961-12-31</td>\n",
       "      <td>25</td>\n",
       "      <td>20</td>\n",
       "      <td>21.0</td>\n",
       "      <td>2.0</td>\n",
       "      <td>39.0</td>\n",
       "      <td>33.0</td>\n",
       "    </tr>\n",
       "  </tbody>\n",
       "</table>\n",
       "<p>20696 rows × 7 columns</p>\n",
       "</div>"
      ],
      "text/plain": [
       "             Date  soux_H  soux_L  indianap_H  indianap_L  memphis_H  \\\n",
       "0      2018-08-29      75      49         NaN         NaN        NaN   \n",
       "1      2018-08-28      66      53         NaN         NaN        NaN   \n",
       "2      2018-08-27      78      66        90.0        72.0        NaN   \n",
       "3      2018-08-26      87      70        77.0        68.0       94.0   \n",
       "...           ...     ...     ...         ...         ...        ...   \n",
       "20692  1962-01-03      47      28        36.0        23.0       61.0   \n",
       "20693  1962-01-02      45      19        32.0        14.0       47.0   \n",
       "20694  1962-01-01      37      21        29.0        14.0       33.0   \n",
       "20695  1961-12-31      25      20        21.0         2.0       39.0   \n",
       "\n",
       "       memphis_L  \n",
       "0            NaN  \n",
       "1            NaN  \n",
       "2            NaN  \n",
       "3           76.0  \n",
       "...          ...  \n",
       "20692       34.0  \n",
       "20693       27.0  \n",
       "20694       27.0  \n",
       "20695       33.0  \n",
       "\n",
       "[20696 rows x 7 columns]"
      ]
     },
     "execution_count": 311,
     "metadata": {},
     "output_type": "execute_result"
    }
   ],
   "source": [
    "ALL_Temp"
   ]
  },
  {
   "cell_type": "code",
   "execution_count": 200,
   "metadata": {},
   "outputs": [],
   "source": [
    "def  fahr_to_celsius(temp_fahr):\n",
    "    \"\"\"Convert Fahrenheit to Celsius   Return Celsius conversion of input\"\"\"\n",
    "    temp_celsius = (temp_fahr - 32) * 5 / 9\n",
    "    return temp_celsius"
   ]
  },
  {
   "cell_type": "code",
   "execution_count": 201,
   "metadata": {},
   "outputs": [],
   "source": [
    "ALL_Temp[\"memphis_H\"] = fahr_to_celsius(ALL_Temp[\"memphis_H\"])\n",
    "ALL_Temp[\"memphis_L\"] = fahr_to_celsius(ALL_Temp[\"memphis_L\"])\n",
    "ALL_Temp[\"indianap_H\"] = fahr_to_celsius(ALL_Temp[\"indianap_H\"])\n",
    "ALL_Temp[\"indianap_L\"] = fahr_to_celsius(ALL_Temp[\"indianap_L\"])\n",
    "ALL_Temp[\"soux_H\"] = fahr_to_celsius(ALL_Temp[\"soux_H\"])\n",
    "ALL_Temp[\"soux_L\"] = fahr_to_celsius(ALL_Temp[\"soux_L\"])"
   ]
  },
  {
   "cell_type": "code",
   "execution_count": 202,
   "metadata": {},
   "outputs": [],
   "source": [
    "#First Date 1961-12-31"
   ]
  },
  {
   "cell_type": "code",
   "execution_count": 312,
   "metadata": {
    "scrolled": false
   },
   "outputs": [
    {
     "data": {
      "text/html": [
       "<div>\n",
       "<style scoped>\n",
       "    .dataframe tbody tr th:only-of-type {\n",
       "        vertical-align: middle;\n",
       "    }\n",
       "\n",
       "    .dataframe tbody tr th {\n",
       "        vertical-align: top;\n",
       "    }\n",
       "\n",
       "    .dataframe thead th {\n",
       "        text-align: right;\n",
       "    }\n",
       "</style>\n",
       "<table border=\"1\" class=\"dataframe\">\n",
       "  <thead>\n",
       "    <tr style=\"text-align: right;\">\n",
       "      <th></th>\n",
       "      <th>Date</th>\n",
       "      <th>soux_H</th>\n",
       "      <th>soux_L</th>\n",
       "      <th>indianap_H</th>\n",
       "      <th>indianap_L</th>\n",
       "      <th>memphis_H</th>\n",
       "      <th>memphis_L</th>\n",
       "    </tr>\n",
       "  </thead>\n",
       "  <tbody>\n",
       "    <tr>\n",
       "      <th>20695</th>\n",
       "      <td>1961-12-31</td>\n",
       "      <td>25</td>\n",
       "      <td>20</td>\n",
       "      <td>21.0</td>\n",
       "      <td>2.0</td>\n",
       "      <td>39.0</td>\n",
       "      <td>33.0</td>\n",
       "    </tr>\n",
       "  </tbody>\n",
       "</table>\n",
       "</div>"
      ],
      "text/plain": [
       "             Date  soux_H  soux_L  indianap_H  indianap_L  memphis_H  \\\n",
       "20695  1961-12-31      25      20        21.0         2.0       39.0   \n",
       "\n",
       "       memphis_L  \n",
       "20695       33.0  "
      ]
     },
     "execution_count": 312,
     "metadata": {},
     "output_type": "execute_result"
    }
   ],
   "source": [
    "ALL_Temp.loc[ALL_Temp['Date'] == '1961-12-31']"
   ]
  },
  {
   "cell_type": "code",
   "execution_count": 313,
   "metadata": {},
   "outputs": [],
   "source": [
    "ALL_Temp = ALL_Temp.loc[:23504]"
   ]
  },
  {
   "cell_type": "code",
   "execution_count": 314,
   "metadata": {},
   "outputs": [],
   "source": [
    "ALL_Temp['Date'] = pd.to_datetime(ALL_Temp['Date'])"
   ]
  },
  {
   "cell_type": "code",
   "execution_count": 207,
   "metadata": {},
   "outputs": [],
   "source": [
    "#oth_days = pd.DataFrame(pd.date_range(start='1961-12-31', end='2015-12-01')).iloc[::-1]"
   ]
  },
  {
   "cell_type": "code",
   "execution_count": 208,
   "metadata": {},
   "outputs": [],
   "source": [
    "#oth_days = oth_days.reset_index(drop=True)"
   ]
  },
  {
   "cell_type": "code",
   "execution_count": 210,
   "metadata": {},
   "outputs": [],
   "source": [
    "#oth_days.rename(columns={0: 'Date'}, inplace=True)"
   ]
  },
  {
   "cell_type": "code",
   "execution_count": 212,
   "metadata": {},
   "outputs": [],
   "source": [
    "#others = oth_days.merge(others, how='left', on='Date').ffill()"
   ]
  },
  {
   "cell_type": "code",
   "execution_count": 230,
   "metadata": {
    "scrolled": false
   },
   "outputs": [],
   "source": []
  },
  {
   "cell_type": "code",
   "execution_count": 315,
   "metadata": {
    "scrolled": true
   },
   "outputs": [
    {
     "data": {
      "text/html": [
       "<div>\n",
       "<style scoped>\n",
       "    .dataframe tbody tr th:only-of-type {\n",
       "        vertical-align: middle;\n",
       "    }\n",
       "\n",
       "    .dataframe tbody tr th {\n",
       "        vertical-align: top;\n",
       "    }\n",
       "\n",
       "    .dataframe thead th {\n",
       "        text-align: right;\n",
       "    }\n",
       "</style>\n",
       "<table border=\"1\" class=\"dataframe\">\n",
       "  <thead>\n",
       "    <tr style=\"text-align: right;\">\n",
       "      <th></th>\n",
       "      <th>Date</th>\n",
       "      <th>soux_H</th>\n",
       "      <th>soux_L</th>\n",
       "      <th>indianap_H</th>\n",
       "      <th>indianap_L</th>\n",
       "      <th>memphis_H</th>\n",
       "      <th>memphis_L</th>\n",
       "    </tr>\n",
       "  </thead>\n",
       "  <tbody>\n",
       "    <tr>\n",
       "      <th>0</th>\n",
       "      <td>2018-08-29</td>\n",
       "      <td>75</td>\n",
       "      <td>49</td>\n",
       "      <td>NaN</td>\n",
       "      <td>NaN</td>\n",
       "      <td>NaN</td>\n",
       "      <td>NaN</td>\n",
       "    </tr>\n",
       "    <tr>\n",
       "      <th>1</th>\n",
       "      <td>2018-08-28</td>\n",
       "      <td>66</td>\n",
       "      <td>53</td>\n",
       "      <td>NaN</td>\n",
       "      <td>NaN</td>\n",
       "      <td>NaN</td>\n",
       "      <td>NaN</td>\n",
       "    </tr>\n",
       "    <tr>\n",
       "      <th>2</th>\n",
       "      <td>2018-08-27</td>\n",
       "      <td>78</td>\n",
       "      <td>66</td>\n",
       "      <td>90.0</td>\n",
       "      <td>72.0</td>\n",
       "      <td>NaN</td>\n",
       "      <td>NaN</td>\n",
       "    </tr>\n",
       "    <tr>\n",
       "      <th>3</th>\n",
       "      <td>2018-08-26</td>\n",
       "      <td>87</td>\n",
       "      <td>70</td>\n",
       "      <td>77.0</td>\n",
       "      <td>68.0</td>\n",
       "      <td>94.0</td>\n",
       "      <td>76.0</td>\n",
       "    </tr>\n",
       "    <tr>\n",
       "      <th>...</th>\n",
       "      <td>...</td>\n",
       "      <td>...</td>\n",
       "      <td>...</td>\n",
       "      <td>...</td>\n",
       "      <td>...</td>\n",
       "      <td>...</td>\n",
       "      <td>...</td>\n",
       "    </tr>\n",
       "    <tr>\n",
       "      <th>20692</th>\n",
       "      <td>1962-01-03</td>\n",
       "      <td>47</td>\n",
       "      <td>28</td>\n",
       "      <td>36.0</td>\n",
       "      <td>23.0</td>\n",
       "      <td>61.0</td>\n",
       "      <td>34.0</td>\n",
       "    </tr>\n",
       "    <tr>\n",
       "      <th>20693</th>\n",
       "      <td>1962-01-02</td>\n",
       "      <td>45</td>\n",
       "      <td>19</td>\n",
       "      <td>32.0</td>\n",
       "      <td>14.0</td>\n",
       "      <td>47.0</td>\n",
       "      <td>27.0</td>\n",
       "    </tr>\n",
       "    <tr>\n",
       "      <th>20694</th>\n",
       "      <td>1962-01-01</td>\n",
       "      <td>37</td>\n",
       "      <td>21</td>\n",
       "      <td>29.0</td>\n",
       "      <td>14.0</td>\n",
       "      <td>33.0</td>\n",
       "      <td>27.0</td>\n",
       "    </tr>\n",
       "    <tr>\n",
       "      <th>20695</th>\n",
       "      <td>1961-12-31</td>\n",
       "      <td>25</td>\n",
       "      <td>20</td>\n",
       "      <td>21.0</td>\n",
       "      <td>2.0</td>\n",
       "      <td>39.0</td>\n",
       "      <td>33.0</td>\n",
       "    </tr>\n",
       "  </tbody>\n",
       "</table>\n",
       "<p>20696 rows × 7 columns</p>\n",
       "</div>"
      ],
      "text/plain": [
       "            Date  soux_H  soux_L  indianap_H  indianap_L  memphis_H  memphis_L\n",
       "0     2018-08-29      75      49         NaN         NaN        NaN        NaN\n",
       "1     2018-08-28      66      53         NaN         NaN        NaN        NaN\n",
       "2     2018-08-27      78      66        90.0        72.0        NaN        NaN\n",
       "3     2018-08-26      87      70        77.0        68.0       94.0       76.0\n",
       "...          ...     ...     ...         ...         ...        ...        ...\n",
       "20692 1962-01-03      47      28        36.0        23.0       61.0       34.0\n",
       "20693 1962-01-02      45      19        32.0        14.0       47.0       27.0\n",
       "20694 1962-01-01      37      21        29.0        14.0       33.0       27.0\n",
       "20695 1961-12-31      25      20        21.0         2.0       39.0       33.0\n",
       "\n",
       "[20696 rows x 7 columns]"
      ]
     },
     "execution_count": 315,
     "metadata": {},
     "output_type": "execute_result"
    }
   ],
   "source": [
    "ALL_Temp"
   ]
  },
  {
   "cell_type": "markdown",
   "metadata": {},
   "source": [
    "# Update Recent Tempretures"
   ]
  },
  {
   "cell_type": "code",
   "execution_count": null,
   "metadata": {},
   "outputs": [],
   "source": []
  },
  {
   "cell_type": "code",
   "execution_count": null,
   "metadata": {},
   "outputs": [],
   "source": []
  },
  {
   "cell_type": "code",
   "execution_count": null,
   "metadata": {},
   "outputs": [],
   "source": []
  },
  {
   "cell_type": "code",
   "execution_count": 267,
   "metadata": {
    "scrolled": true
   },
   "outputs": [],
   "source": [
    "#ALL_Temp_Final = ALL_Temp.merge(others, how='left', on='Date')"
   ]
  },
  {
   "cell_type": "code",
   "execution_count": 268,
   "metadata": {},
   "outputs": [
    {
     "data": {
      "text/html": [
       "<div>\n",
       "<style scoped>\n",
       "    .dataframe tbody tr th:only-of-type {\n",
       "        vertical-align: middle;\n",
       "    }\n",
       "\n",
       "    .dataframe tbody tr th {\n",
       "        vertical-align: top;\n",
       "    }\n",
       "\n",
       "    .dataframe thead th {\n",
       "        text-align: right;\n",
       "    }\n",
       "</style>\n",
       "<table border=\"1\" class=\"dataframe\">\n",
       "  <thead>\n",
       "    <tr style=\"text-align: right;\">\n",
       "      <th></th>\n",
       "      <th>Date</th>\n",
       "      <th>memphis_H</th>\n",
       "      <th>memphis_L</th>\n",
       "      <th>indianap_H</th>\n",
       "      <th>indianap_L</th>\n",
       "      <th>soux_H</th>\n",
       "      <th>soux_L</th>\n",
       "      <th>Argentina_Temp</th>\n",
       "      <th>Brazil_Temp</th>\n",
       "      <th>China_Temp</th>\n",
       "      <th>India_Temp</th>\n",
       "      <th>Paraguay_Temp</th>\n",
       "    </tr>\n",
       "  </thead>\n",
       "  <tbody>\n",
       "    <tr>\n",
       "      <th>0</th>\n",
       "      <td>2018-08-26</td>\n",
       "      <td>34.444444</td>\n",
       "      <td>24.444444</td>\n",
       "      <td>25.000000</td>\n",
       "      <td>20.000000</td>\n",
       "      <td>30.000000</td>\n",
       "      <td>15.000000</td>\n",
       "      <td>NaN</td>\n",
       "      <td>NaN</td>\n",
       "      <td>NaN</td>\n",
       "      <td>NaN</td>\n",
       "      <td>NaN</td>\n",
       "    </tr>\n",
       "    <tr>\n",
       "      <th>1</th>\n",
       "      <td>2018-08-26</td>\n",
       "      <td>34.444444</td>\n",
       "      <td>24.444444</td>\n",
       "      <td>25.000000</td>\n",
       "      <td>20.000000</td>\n",
       "      <td>28.888889</td>\n",
       "      <td>20.555556</td>\n",
       "      <td>NaN</td>\n",
       "      <td>NaN</td>\n",
       "      <td>NaN</td>\n",
       "      <td>NaN</td>\n",
       "      <td>NaN</td>\n",
       "    </tr>\n",
       "    <tr>\n",
       "      <th>2</th>\n",
       "      <td>2018-08-25</td>\n",
       "      <td>32.777778</td>\n",
       "      <td>22.222222</td>\n",
       "      <td>24.444444</td>\n",
       "      <td>15.555556</td>\n",
       "      <td>28.333333</td>\n",
       "      <td>15.000000</td>\n",
       "      <td>NaN</td>\n",
       "      <td>NaN</td>\n",
       "      <td>NaN</td>\n",
       "      <td>NaN</td>\n",
       "      <td>NaN</td>\n",
       "    </tr>\n",
       "    <tr>\n",
       "      <th>3</th>\n",
       "      <td>2018-08-25</td>\n",
       "      <td>32.777778</td>\n",
       "      <td>22.222222</td>\n",
       "      <td>24.444444</td>\n",
       "      <td>15.555556</td>\n",
       "      <td>29.444444</td>\n",
       "      <td>13.888889</td>\n",
       "      <td>NaN</td>\n",
       "      <td>NaN</td>\n",
       "      <td>NaN</td>\n",
       "      <td>NaN</td>\n",
       "      <td>NaN</td>\n",
       "    </tr>\n",
       "    <tr>\n",
       "      <th>...</th>\n",
       "      <td>...</td>\n",
       "      <td>...</td>\n",
       "      <td>...</td>\n",
       "      <td>...</td>\n",
       "      <td>...</td>\n",
       "      <td>...</td>\n",
       "      <td>...</td>\n",
       "      <td>...</td>\n",
       "      <td>...</td>\n",
       "      <td>...</td>\n",
       "      <td>...</td>\n",
       "      <td>...</td>\n",
       "    </tr>\n",
       "    <tr>\n",
       "      <th>23501</th>\n",
       "      <td>1962-01-03</td>\n",
       "      <td>16.111111</td>\n",
       "      <td>1.111111</td>\n",
       "      <td>2.222222</td>\n",
       "      <td>-5.000000</td>\n",
       "      <td>7.222222</td>\n",
       "      <td>-8.333333</td>\n",
       "      <td>19.9582</td>\n",
       "      <td>25.6771</td>\n",
       "      <td>-5.0665</td>\n",
       "      <td>19.2692</td>\n",
       "      <td>27.4243</td>\n",
       "    </tr>\n",
       "    <tr>\n",
       "      <th>23502</th>\n",
       "      <td>1962-01-02</td>\n",
       "      <td>8.333333</td>\n",
       "      <td>-2.777778</td>\n",
       "      <td>0.000000</td>\n",
       "      <td>-10.000000</td>\n",
       "      <td>6.111111</td>\n",
       "      <td>-8.333333</td>\n",
       "      <td>19.9582</td>\n",
       "      <td>25.6771</td>\n",
       "      <td>-5.0665</td>\n",
       "      <td>19.2692</td>\n",
       "      <td>27.4243</td>\n",
       "    </tr>\n",
       "    <tr>\n",
       "      <th>23503</th>\n",
       "      <td>1962-01-01</td>\n",
       "      <td>0.555556</td>\n",
       "      <td>-2.777778</td>\n",
       "      <td>-1.666667</td>\n",
       "      <td>-10.000000</td>\n",
       "      <td>1.666667</td>\n",
       "      <td>-7.222222</td>\n",
       "      <td>19.9582</td>\n",
       "      <td>25.6771</td>\n",
       "      <td>-5.0665</td>\n",
       "      <td>19.2692</td>\n",
       "      <td>27.4243</td>\n",
       "    </tr>\n",
       "    <tr>\n",
       "      <th>23504</th>\n",
       "      <td>1961-12-31</td>\n",
       "      <td>3.888889</td>\n",
       "      <td>0.555556</td>\n",
       "      <td>-6.111111</td>\n",
       "      <td>-16.666667</td>\n",
       "      <td>-3.888889</td>\n",
       "      <td>-6.666667</td>\n",
       "      <td>20.3264</td>\n",
       "      <td>25.5438</td>\n",
       "      <td>-9.2598</td>\n",
       "      <td>15.8479</td>\n",
       "      <td>27.8278</td>\n",
       "    </tr>\n",
       "  </tbody>\n",
       "</table>\n",
       "<p>23505 rows × 12 columns</p>\n",
       "</div>"
      ],
      "text/plain": [
       "            Date  memphis_H  memphis_L  indianap_H  indianap_L     soux_H  \\\n",
       "0     2018-08-26  34.444444  24.444444   25.000000   20.000000  30.000000   \n",
       "1     2018-08-26  34.444444  24.444444   25.000000   20.000000  28.888889   \n",
       "2     2018-08-25  32.777778  22.222222   24.444444   15.555556  28.333333   \n",
       "3     2018-08-25  32.777778  22.222222   24.444444   15.555556  29.444444   \n",
       "...          ...        ...        ...         ...         ...        ...   \n",
       "23501 1962-01-03  16.111111   1.111111    2.222222   -5.000000   7.222222   \n",
       "23502 1962-01-02   8.333333  -2.777778    0.000000  -10.000000   6.111111   \n",
       "23503 1962-01-01   0.555556  -2.777778   -1.666667  -10.000000   1.666667   \n",
       "23504 1961-12-31   3.888889   0.555556   -6.111111  -16.666667  -3.888889   \n",
       "\n",
       "          soux_L  Argentina_Temp  Brazil_Temp  China_Temp  India_Temp  \\\n",
       "0      15.000000             NaN          NaN         NaN         NaN   \n",
       "1      20.555556             NaN          NaN         NaN         NaN   \n",
       "2      15.000000             NaN          NaN         NaN         NaN   \n",
       "3      13.888889             NaN          NaN         NaN         NaN   \n",
       "...          ...             ...          ...         ...         ...   \n",
       "23501  -8.333333         19.9582      25.6771     -5.0665     19.2692   \n",
       "23502  -8.333333         19.9582      25.6771     -5.0665     19.2692   \n",
       "23503  -7.222222         19.9582      25.6771     -5.0665     19.2692   \n",
       "23504  -6.666667         20.3264      25.5438     -9.2598     15.8479   \n",
       "\n",
       "       Paraguay_Temp  \n",
       "0                NaN  \n",
       "1                NaN  \n",
       "2                NaN  \n",
       "3                NaN  \n",
       "...              ...  \n",
       "23501        27.4243  \n",
       "23502        27.4243  \n",
       "23503        27.4243  \n",
       "23504        27.8278  \n",
       "\n",
       "[23505 rows x 12 columns]"
      ]
     },
     "execution_count": 268,
     "metadata": {},
     "output_type": "execute_result"
    }
   ],
   "source": [
    "ALL_Temp_Final"
   ]
  },
  {
   "cell_type": "code",
   "execution_count": 217,
   "metadata": {},
   "outputs": [
    {
     "data": {
      "text/plain": [
       "'/Users/AnthonyCelio/ad/falcon/soy/temps/'"
      ]
     },
     "execution_count": 217,
     "metadata": {},
     "output_type": "execute_result"
    }
   ],
   "source": [
    "path"
   ]
  },
  {
   "cell_type": "code",
   "execution_count": 316,
   "metadata": {
    "scrolled": true
   },
   "outputs": [],
   "source": [
    "ALL_Temp.to_csv('/Users/AnthonyCelio/ad/falcon/soy/00_ALL_Temp_Final.csv', index=False)"
   ]
  },
  {
   "cell_type": "code",
   "execution_count": null,
   "metadata": {},
   "outputs": [],
   "source": []
  }
 ],
 "metadata": {
  "kernelspec": {
   "display_name": "Python 3",
   "language": "python",
   "name": "python3"
  },
  "language_info": {
   "codemirror_mode": {
    "name": "ipython",
    "version": 3
   },
   "file_extension": ".py",
   "mimetype": "text/x-python",
   "name": "python",
   "nbconvert_exporter": "python",
   "pygments_lexer": "ipython3",
   "version": "3.6.5"
  }
 },
 "nbformat": 4,
 "nbformat_minor": 2
}
